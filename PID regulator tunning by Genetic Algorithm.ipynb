{
 "cells": [
  {
   "cell_type": "code",
   "execution_count": 7,
   "metadata": {},
   "outputs": [],
   "source": [
    "import control as ct\n",
    "import matplotlib.pyplot as plt\n",
    "import numpy as np\n",
    "from control.matlab import *\n",
    "import pygad\n",
    "\n",
    "def PID(G, pid):\n",
    "    Kp = pid[0]\n",
    "    Ti = pid[1]\n",
    "    Td = pid[2]\n",
    "    R = Kp*(1 + 1/(Ti*s) + Td*s/(0.001*s + 1))\n",
    "\n",
    "    dt = 0.1\n",
    "    t = np.arange(0,10, dt)\n",
    "\n",
    "    Loop = ct.series(R, G)\n",
    "    CLoop = ct.feedback(Loop, 1)\n",
    "\n",
    "    t1, yout = ct.step_response(CLoop, t)\n",
    "    uout, t2, xout = ct.matlab.lsim(R, U=1-yout, T=t)\n",
    "\n",
    "    Q = 1\n",
    "    R = 0.001\n",
    "\n",
    "    J = dt*np.sum(Q*(1-yout)**2 + R*uout**2)\n",
    "    return J, t, yout, uout\n",
    "\n",
    "s = ct.tf('s')\n",
    "T = 1\n",
    "dz = 1\n",
    "k = 2\n",
    "\n",
    "G = (k)/(T**2 * s**2 + 2*dz*T*s + 1)"
   ]
  },
  {
   "cell_type": "code",
   "execution_count": 8,
   "metadata": {},
   "outputs": [
    {
     "name": "stderr",
     "output_type": "stream",
     "text": [
      "C:\\Users\\Mateusz\\anaconda3\\lib\\site-packages\\pygad\\pygad.py:490: UserWarning: The percentage of genes to mutate (mutation_percent_genes=0.01) resutled in selecting (0) genes. The number of genes to mutate is set to 1 (mutation_num_genes=1).\n",
      "If you do not want to mutate any gene, please set mutation_type=None.\n",
      "  if not self.suppress_warnings: warnings.warn(\"The percentage of genes to mutate (mutation_percent_genes={mutation_percent}) resutled in selecting ({mutation_num}) genes. The number of genes to mutate is set to 1 (mutation_num_genes=1).\\nIf you do not want to mutate any gene, please set mutation_type=None.\".format(mutation_percent=mutation_percent_genes, mutation_num=mutation_num_genes))\n"
     ]
    }
   ],
   "source": [
    "def fitness_func(solution, solution_idx):\n",
    "    fitness,t,  yout, uout = PID(G, solution)\n",
    "    return -fitness\n",
    "\n",
    "ga_instance = pygad.GA(num_generations=10,\n",
    "                      num_parents_mating=4, \n",
    "                      fitness_func=fitness_func,\n",
    "                      sol_per_pop=8,\n",
    "                      num_genes=3,\n",
    "                      init_range_low=0.1,\n",
    "                      init_range_high=10,\n",
    "                      parent_selection_type=\"sss\",\n",
    "                      keep_parents=1,\n",
    "                      crossover_type=\"single_point\",\n",
    "                      mutation_type=\"random\",\n",
    "                      mutation_percent_genes=0.01)"
   ]
  },
  {
   "cell_type": "code",
   "execution_count": 14,
   "metadata": {},
   "outputs": [
    {
     "name": "stderr",
     "output_type": "stream",
     "text": [
      "C:\\Users\\Mateusz\\anaconda3\\lib\\site-packages\\control\\timeresp.py:935: UserWarning: return_x specified for a transfer function system. Internal conversion to state space used; results may meaningless.\n",
      "  warnings.warn(\n"
     ]
    }
   ],
   "source": [
    "ga_instance.run()"
   ]
  },
  {
   "cell_type": "code",
   "execution_count": 17,
   "metadata": {},
   "outputs": [
    {
     "name": "stdout",
     "output_type": "stream",
     "text": [
      "Best solution: [1.42 2.07 0.03]\n",
      "Fitness: 0.75\n"
     ]
    },
    {
     "name": "stderr",
     "output_type": "stream",
     "text": [
      "C:\\Users\\Mateusz\\anaconda3\\lib\\site-packages\\control\\timeresp.py:935: UserWarning: return_x specified for a transfer function system. Internal conversion to state space used; results may meaningless.\n",
      "  warnings.warn(\n"
     ]
    },
    {
     "data": {
      "text/plain": [
       "Text(0.5, 1.0, 'Control signal')"
      ]
     },
     "execution_count": 17,
     "metadata": {},
     "output_type": "execute_result"
    },
    {
     "data": {
      "image/png": "[encoded data removed]",
      "text/plain": [
       "<Figure size 720x360 with 2 Axes>"
      ]
     },
     "metadata": {
      "needs_background": "light"
     },
     "output_type": "display_data"
    }
   ],
   "source": [
    "solution, solution_fitness, solution_idx = ga_instance.best_solution()\n",
    "print(f\"Best solution: {np.round(solution,2)}\")\n",
    "print(f\"Fitness: {np.round(-solution_fitness,2)}\")\n",
    "J, t, y, u = PID(G, solution)\n",
    "\n",
    "fig, (ax1, ax2) = plt.subplots(1, 2, figsize=(10,5))\n",
    "ax1.plot(t, y, label='y(t)')\n",
    "ax2.plot(t, u, label='u_out(t)')\n",
    "ax1.grid()\n",
    "ax2.grid()\n",
    "ax1.legend()\n",
    "ax2.legend()  \n",
    "ax1.set_xlabel('t')\n",
    "ax2.set_xlabel('t')\n",
    "ax1.set_title('Step response')\n",
    "ax2.set_title('Control signal')"
   ]
  }
 ],
 "metadata": {
  "kernelspec": {
   "display_name": "Python 3 (ipykernel)",
   "language": "python",
   "name": "python3"
  },
  "language_info": {
   "codemirror_mode": {
    "name": "ipython",
    "version": 3
   },
   "file_extension": ".py",
   "mimetype": "text/x-python",
   "name": "python",
   "nbconvert_exporter": "python",
   "pygments_lexer": "ipython3",
   "version": "3.9.7"
  }
 },
 "nbformat": 4,
 "nbformat_minor": 2
}
